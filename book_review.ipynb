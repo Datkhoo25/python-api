{
 "cells": [
  {
   "cell_type": "code",
   "execution_count": 7,
   "id": "cdd8fee8-b78c-4aba-828c-d9c938403d9a",
   "metadata": {},
   "outputs": [],
   "source": [
    "import os \n",
    "from pyairtable import Api\n",
    "\n"
   ]
  },
  {
   "cell_type": "code",
   "execution_count": 49,
   "id": "e0b36657-c253-4c3e-be3c-e169044a0f31",
   "metadata": {},
   "outputs": [],
   "source": [
    "class Book_review:\n",
    "    def __init__(self):\n",
    "        self.API_key = Api(os.environ.get('AIRTABLE_TOKEN'))\n",
    "        self.table = self.API_key.table('appjag3LK8KoSbJv8', 'tbl4GIvGTPlSpq2DD')\n",
    "\n",
    "    def get_book_rating (self, sort=\"ASC\", max_records=10):\n",
    "        if not sort:\n",
    "            return self.table.all(max_records=max_records)\n",
    "        elif sort == \"DESC\":\n",
    "            rating = [\"Rating\"]\n",
    "        elif sort == \"DESC\":\n",
    "            rating = [\"-Rating\"]\n",
    "        table = self.table.all(sort=rating, max_records=max_records)\n",
    "        return table\n",
    "        \n",
    "    def add_book_rating(self, book_title, book_rating, note=None):\n",
    "        fields = {'Book': book_title, 'Rating': book_rating, 'Notes':note}\n",
    "        self.table.create(fields=fields)\n",
    "\n",
    "\n"
   ]
  },
  {
   "cell_type": "code",
   "execution_count": 50,
   "id": "8fde3fe6-f113-438a-8507-9d3e5b91b367",
   "metadata": {},
   "outputs": [
    {
     "name": "stdout",
     "output_type": "stream",
     "text": [
      "[{'id': 'recVUV0NPavY4jGYB', 'createdTime': '2024-08-04T08:38:33.000Z', 'fields': {'Book': 'Human Revolution', 'Rating': 9.9, 'Notes': 'Daisaku Ikeda'}}, {'id': 'recCjjIfxJYYvqdNT', 'createdTime': '2024-08-04T08:37:13.000Z', 'fields': {'Book': 'Data Science Manual', 'Rating': 7.9, 'Notes': 'The essential of DS learning'}}]\n"
     ]
    }
   ],
   "source": [
    "if __name__==\"__main__\":\n",
    "    br = Book_review()\n",
    "    print(br.get_book_rating(sort=\"DESC\", max_records=2))\n",
    "    "
   ]
  },
  {
   "cell_type": "code",
   "execution_count": 38,
   "id": "0e9ae524-aae4-44e0-a7ec-396324a598af",
   "metadata": {},
   "outputs": [],
   "source": [
    "if __name__==\"__main__\":\n",
    "    br = Book_review()\n",
    "    br.add_book_rating(\"Investing 101\", 5.0, \"Just something you can find on the internet\")\n",
    "    "
   ]
  },
  {
   "cell_type": "code",
   "execution_count": null,
   "id": "1587a5b3-2a86-43fd-81bd-33e815c796d0",
   "metadata": {},
   "outputs": [],
   "source": []
  }
 ],
 "metadata": {
  "kernelspec": {
   "display_name": "Python 3 (ipykernel)",
   "language": "python",
   "name": "python3"
  },
  "language_info": {
   "codemirror_mode": {
    "name": "ipython",
    "version": 3
   },
   "file_extension": ".py",
   "mimetype": "text/x-python",
   "name": "python",
   "nbconvert_exporter": "python",
   "pygments_lexer": "ipython3",
   "version": "3.12.3"
  }
 },
 "nbformat": 4,
 "nbformat_minor": 5
}
