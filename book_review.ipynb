{
 "cells": [
  {
   "cell_type": "code",
   "execution_count": 1,
   "id": "cdd8fee8-b78c-4aba-828c-d9c938403d9a",
   "metadata": {},
   "outputs": [],
   "source": [
    "import os \n",
    "from pyairtable import Api\n",
    "\n"
   ]
  },
  {
   "cell_type": "code",
   "execution_count": 2,
   "id": "982c89a2-1db1-40ce-b38a-aa242778fec3",
   "metadata": {},
   "outputs": [
    {
     "name": "stdout",
     "output_type": "stream",
     "text": [
      "patPTt9y1iv3NbYVB.ddc04cbefec28a400229ea13d331130d5629cded17f40ba6b7dee3d7362d375c\n"
     ]
    }
   ],
   "source": [
    "print(os.environ.get('AIRTABLE_TOKEN'))"
   ]
  },
  {
   "cell_type": "code",
   "execution_count": 3,
   "id": "e0b36657-c253-4c3e-be3c-e169044a0f31",
   "metadata": {},
   "outputs": [],
   "source": [
    "class Book_review:\n",
    "    def __init__(self):\n",
    "        self.API_key = Api(os.environ.get('AIRTABLE_TOKEN'))\n",
    "        self.table = self.API_key.table('appuxTXD1DJAMZ9lP', 'tbl7MLun8q8cqt6N5')\n",
    "\n",
    "    def get_book_rating (self, sort=\"ASC\", max_records=10):\n",
    "        if not sort:\n",
    "            return self.table.all(max_records=max_records)\n",
    "        elif sort == \"ASC\":\n",
    "            rating = [\"Rating\"]\n",
    "        elif sort == \"DESC\":\n",
    "            rating = [\"-Rating\"]\n",
    "        table = self.table.all(sort=rating, max_records=max_records)\n",
    "        return table\n",
    "\n",
    "    def add_book_rating(self, book_title, book_rating, note=None):\n",
    "        fields = {'Book': book_title, 'Rating': book_rating, 'Notes':note}\n",
    "        self.table.create(fields=fields)\n",
    "\n",
    "\n"
   ]
  },
  {
   "cell_type": "code",
   "execution_count": 4,
   "id": "8fde3fe6-f113-438a-8507-9d3e5b91b367",
   "metadata": {},
   "outputs": [
    {
     "name": "stdout",
     "output_type": "stream",
     "text": [
      "[{'id': 'rec4neBHbjrTMv5PP', 'createdTime': '2024-05-26T07:02:54.000Z', 'fields': {'Rating': 7.6, 'Book': 'Conan O Brien', 'Notes': 'Good\\n'}}, {'id': 'reciuImam6PB8rbvQ', 'createdTime': '2024-05-26T07:02:54.000Z', 'fields': {'Book': 'DGag', 'Rating': 4}}]\n"
     ]
    }
   ],
   "source": [
    "if __name__==\"__main__\":\n",
    "    br = Book_review()\n",
    "    print(br.get_book_rating(sort=\"DESC\", max_records=2))\n",
    "    "
   ]
  },
  {
   "cell_type": "code",
   "execution_count": 5,
   "id": "0e9ae524-aae4-44e0-a7ec-396324a598af",
   "metadata": {},
   "outputs": [
    {
     "name": "stdout",
     "output_type": "stream",
     "text": [
      "<pyairtable.Api>\n"
     ]
    }
   ],
   "source": [
    "if __name__==\"__main__\":\n",
    "    br = Book_review()\n",
    "    br.add_book_rating(\"Investing 101\", 5.0, \"Just something you can find on the internet\")\n",
    "    print(br.API_key)\n",
    "    "
   ]
  },
  {
   "cell_type": "code",
   "execution_count": null,
   "id": "1587a5b3-2a86-43fd-81bd-33e815c796d0",
   "metadata": {},
   "outputs": [],
   "source": []
  }
 ],
 "metadata": {
  "kernelspec": {
   "display_name": "Python 3 (ipykernel)",
   "language": "python",
   "name": "python3"
  },
  "language_info": {
   "codemirror_mode": {
    "name": "ipython",
    "version": 3
   },
   "file_extension": ".py",
   "mimetype": "text/x-python",
   "name": "python",
   "nbconvert_exporter": "python",
   "pygments_lexer": "ipython3",
   "version": "3.12.3"
  }
 },
 "nbformat": 4,
 "nbformat_minor": 5
}
