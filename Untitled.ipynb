{
 "cells": [
  {
   "cell_type": "code",
   "execution_count": 1,
   "id": "cdd8fee8-b78c-4aba-828c-d9c938403d9a",
   "metadata": {},
   "outputs": [],
   "source": [
    "import os \n",
    "from pyairtable import Api\n",
    "\n",
    "API_TOKEN = os.environ.get('AIRTABLE_TOKEN')"
   ]
  },
  {
   "cell_type": "code",
   "execution_count": 2,
   "id": "216bc2b5-3dcd-457d-92a2-3c59c0b723c7",
   "metadata": {},
   "outputs": [
    {
     "data": {
      "text/plain": [
       "'patPTt9y1iv3NbYVB.ddc04cbefec28a400229ea13d331130d5629cded17f40ba6b7dee3d7362d375c'"
      ]
     },
     "execution_count": 2,
     "metadata": {},
     "output_type": "execute_result"
    }
   ],
   "source": [
    "API_TOKEN"
   ]
  },
  {
   "cell_type": "code",
   "execution_count": null,
   "id": "60e4a6a7-651f-4c76-990f-b3bcccc72135",
   "metadata": {},
   "outputs": [],
   "source": []
  }
 ],
 "metadata": {
  "kernelspec": {
   "display_name": "Python 3 (ipykernel)",
   "language": "python",
   "name": "python3"
  },
  "language_info": {
   "codemirror_mode": {
    "name": "ipython",
    "version": 3
   },
   "file_extension": ".py",
   "mimetype": "text/x-python",
   "name": "python",
   "nbconvert_exporter": "python",
   "pygments_lexer": "ipython3",
   "version": "3.12.3"
  }
 },
 "nbformat": 4,
 "nbformat_minor": 5
}
