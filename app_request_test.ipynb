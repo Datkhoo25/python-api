{
 "cells": [
  {
   "cell_type": "code",
   "execution_count": 12,
   "id": "fd8470ed-8409-4ef7-b13c-84b2d5ab4ae4",
   "metadata": {},
   "outputs": [
    {
     "name": "stdout",
     "output_type": "stream",
     "text": [
      "{'text': 'HELLO KEITH'}\n"
     ]
    }
   ],
   "source": [
    "import requests\n",
    "\n",
    "base_url = 'http://127.0.0.1:5000/uppercase'\n",
    "params= {'text': 'Hello Keith'}\n",
    "response = requests.get(base_url, params=params)\n",
    "\n",
    "# Print the JSON content from the response\n",
    "if response.status_code == 200:\n",
    "    print(response.json())  # Call the method with parentheses\n",
    "else:\n",
    "    print(f\"Request failed with status code {response.status_code}\")"
   ]
  },
  {
   "cell_type": "code",
   "execution_count": null,
   "id": "3f8e7295-d3f5-43f3-b229-ec2a30bd2074",
   "metadata": {},
   "outputs": [],
   "source": []
  }
 ],
 "metadata": {
  "kernelspec": {
   "display_name": "Python 3 (ipykernel)",
   "language": "python",
   "name": "python3"
  },
  "language_info": {
   "codemirror_mode": {
    "name": "ipython",
    "version": 3
   },
   "file_extension": ".py",
   "mimetype": "text/x-python",
   "name": "python",
   "nbconvert_exporter": "python",
   "pygments_lexer": "ipython3",
   "version": "3.12.3"
  }
 },
 "nbformat": 4,
 "nbformat_minor": 5
}
